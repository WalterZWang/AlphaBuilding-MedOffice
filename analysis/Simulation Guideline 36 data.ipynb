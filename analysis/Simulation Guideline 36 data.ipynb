{
 "cells": [
  {
   "cell_type": "code",
   "execution_count": 1,
   "metadata": {},
   "outputs": [],
   "source": [
    "import numpy as np\n",
    "import pandas as pd\n",
    "from os import listdir\n",
    "import seaborn as sns\n",
    "import matplotlib.pyplot as plt\n",
    "\n",
    "from utils import compute_reward, mapping"
   ]
  },
  {
   "cell_type": "code",
   "execution_count": 13,
   "metadata": {},
   "outputs": [],
   "source": [
    "efficiency_map, city_map, year_map = mapping()"
   ]
  },
  {
   "cell_type": "markdown",
   "metadata": {},
   "source": [
    "## Extract key statistics from simulation result"
   ]
  },
  {
   "cell_type": "code",
   "execution_count": 2,
   "metadata": {},
   "outputs": [],
   "source": [
    "path='/home/user/Desktop/git/AlphaBuilding/imitationLearn/simulationData/'\n",
    "\n",
    "TempMin, TempMax, Comfort, UncDegHour = [], [], [], []\n",
    "Effi, City, Year, Run = [], [], [], []\n",
    "\n",
    "\n",
    "for file in listdir(path):\n",
    "    efficiency = file.split('_')[0]\n",
    "    city = file.split('_')[2]\n",
    "    year = file.split('_')[3]\n",
    "    run = int(file.split('_')[4][0])\n",
    "    \n",
    "    dict_data = np.load(path+file)\n",
    "    data = dict_data['arr_0']\n",
    "\n",
    "    for data_timestep in data:\n",
    "        zones_temp = data_timestep[8:17]\n",
    "        T_set = data_timestep[17:26]\n",
    "        officeHour = data_timestep[6]\n",
    "        comfort, tempMin, tempMax, uncDegHour = compute_reward(zones_temp,T_set,officeHour)\n",
    "        Comfort.append(comfort)\n",
    "        UncDegHour.append(uncDegHour)\n",
    "        TempMin.append(tempMin)\n",
    "        TempMax.append(tempMax)\n",
    "        Effi.append(efficiency)\n",
    "        City.append(city)\n",
    "        Year.append(year)\n",
    "        Run.append(run)"
   ]
  },
  {
   "cell_type": "code",
   "execution_count": 3,
   "metadata": {},
   "outputs": [],
   "source": [
    "result = pd.DataFrame(data={'comfort':Comfort,\n",
    "                            'uncDegHour':UncDegHour,\n",
    "                            'tempMin': TempMin,\n",
    "                            'tempMax': TempMax,\n",
    "                            'efficiency':Effi,\n",
    "                            'city':City,\n",
    "                            'year':Year,\n",
    "                            'run':Run})"
   ]
  },
  {
   "cell_type": "markdown",
   "metadata": {},
   "source": [
    "## Post-processing"
   ]
  },
  {
   "cell_type": "code",
   "execution_count": 4,
   "metadata": {},
   "outputs": [],
   "source": [
    "# encode efficiency, city and year\n",
    "\n",
    "result['efficiency'] = result['efficiency'].replace(efficiency_map)\n",
    "result['city'] = result['city'].replace(city_map)\n",
    "result['year'] = result['year'].replace(year_map).astype('int')"
   ]
  },
  {
   "cell_type": "code",
   "execution_count": 5,
   "metadata": {},
   "outputs": [
    {
     "name": "stdout",
     "output_type": "stream",
     "text": [
      "Mem. usage decreased to 242.41 Mb (79.7% reduction)\n"
     ]
    },
    {
     "data": {
      "text/html": [
       "<div>\n",
       "<style scoped>\n",
       "    .dataframe tbody tr th:only-of-type {\n",
       "        vertical-align: middle;\n",
       "    }\n",
       "\n",
       "    .dataframe tbody tr th {\n",
       "        vertical-align: top;\n",
       "    }\n",
       "\n",
       "    .dataframe thead th {\n",
       "        text-align: right;\n",
       "    }\n",
       "</style>\n",
       "<table border=\"1\" class=\"dataframe\">\n",
       "  <thead>\n",
       "    <tr style=\"text-align: right;\">\n",
       "      <th></th>\n",
       "      <th>comfort</th>\n",
       "      <th>uncDegHour</th>\n",
       "      <th>tempMin</th>\n",
       "      <th>tempMax</th>\n",
       "      <th>efficiency</th>\n",
       "      <th>city</th>\n",
       "      <th>year</th>\n",
       "      <th>run</th>\n",
       "    </tr>\n",
       "  </thead>\n",
       "  <tbody>\n",
       "    <tr>\n",
       "      <td>0</td>\n",
       "      <td>27.734375</td>\n",
       "      <td>0.0</td>\n",
       "      <td>19.531250</td>\n",
       "      <td>19.531250</td>\n",
       "      <td>2</td>\n",
       "      <td>2</td>\n",
       "      <td>1988</td>\n",
       "      <td>2</td>\n",
       "    </tr>\n",
       "    <tr>\n",
       "      <td>1</td>\n",
       "      <td>28.093750</td>\n",
       "      <td>0.0</td>\n",
       "      <td>19.531250</td>\n",
       "      <td>19.531250</td>\n",
       "      <td>2</td>\n",
       "      <td>2</td>\n",
       "      <td>1988</td>\n",
       "      <td>2</td>\n",
       "    </tr>\n",
       "    <tr>\n",
       "      <td>2</td>\n",
       "      <td>29.140625</td>\n",
       "      <td>0.0</td>\n",
       "      <td>19.531250</td>\n",
       "      <td>19.531250</td>\n",
       "      <td>2</td>\n",
       "      <td>2</td>\n",
       "      <td>1988</td>\n",
       "      <td>2</td>\n",
       "    </tr>\n",
       "    <tr>\n",
       "      <td>3</td>\n",
       "      <td>30.203125</td>\n",
       "      <td>0.0</td>\n",
       "      <td>19.531250</td>\n",
       "      <td>19.531250</td>\n",
       "      <td>2</td>\n",
       "      <td>2</td>\n",
       "      <td>1988</td>\n",
       "      <td>2</td>\n",
       "    </tr>\n",
       "    <tr>\n",
       "      <td>4</td>\n",
       "      <td>31.000000</td>\n",
       "      <td>0.0</td>\n",
       "      <td>19.531250</td>\n",
       "      <td>19.531250</td>\n",
       "      <td>2</td>\n",
       "      <td>2</td>\n",
       "      <td>1988</td>\n",
       "      <td>2</td>\n",
       "    </tr>\n",
       "    <tr>\n",
       "      <td>...</td>\n",
       "      <td>...</td>\n",
       "      <td>...</td>\n",
       "      <td>...</td>\n",
       "      <td>...</td>\n",
       "      <td>...</td>\n",
       "      <td>...</td>\n",
       "      <td>...</td>\n",
       "      <td>...</td>\n",
       "    </tr>\n",
       "    <tr>\n",
       "      <td>19552873</td>\n",
       "      <td>83.875000</td>\n",
       "      <td>0.0</td>\n",
       "      <td>19.531250</td>\n",
       "      <td>19.531250</td>\n",
       "      <td>3</td>\n",
       "      <td>3</td>\n",
       "      <td>1980</td>\n",
       "      <td>1</td>\n",
       "    </tr>\n",
       "    <tr>\n",
       "      <td>19552874</td>\n",
       "      <td>108.562500</td>\n",
       "      <td>0.0</td>\n",
       "      <td>18.953125</td>\n",
       "      <td>18.953125</td>\n",
       "      <td>3</td>\n",
       "      <td>3</td>\n",
       "      <td>1980</td>\n",
       "      <td>1</td>\n",
       "    </tr>\n",
       "    <tr>\n",
       "      <td>19552875</td>\n",
       "      <td>65.375000</td>\n",
       "      <td>0.0</td>\n",
       "      <td>19.515625</td>\n",
       "      <td>19.515625</td>\n",
       "      <td>3</td>\n",
       "      <td>3</td>\n",
       "      <td>1980</td>\n",
       "      <td>1</td>\n",
       "    </tr>\n",
       "    <tr>\n",
       "      <td>19552876</td>\n",
       "      <td>98.312500</td>\n",
       "      <td>0.0</td>\n",
       "      <td>20.093750</td>\n",
       "      <td>20.093750</td>\n",
       "      <td>3</td>\n",
       "      <td>3</td>\n",
       "      <td>1980</td>\n",
       "      <td>1</td>\n",
       "    </tr>\n",
       "    <tr>\n",
       "      <td>19552877</td>\n",
       "      <td>83.625000</td>\n",
       "      <td>0.0</td>\n",
       "      <td>20.093750</td>\n",
       "      <td>20.093750</td>\n",
       "      <td>3</td>\n",
       "      <td>3</td>\n",
       "      <td>1980</td>\n",
       "      <td>1</td>\n",
       "    </tr>\n",
       "  </tbody>\n",
       "</table>\n",
       "<p>19552878 rows × 8 columns</p>\n",
       "</div>"
      ],
      "text/plain": [
       "             comfort  uncDegHour    tempMin    tempMax  efficiency  city  \\\n",
       "0          27.734375         0.0  19.531250  19.531250           2     2   \n",
       "1          28.093750         0.0  19.531250  19.531250           2     2   \n",
       "2          29.140625         0.0  19.531250  19.531250           2     2   \n",
       "3          30.203125         0.0  19.531250  19.531250           2     2   \n",
       "4          31.000000         0.0  19.531250  19.531250           2     2   \n",
       "...              ...         ...        ...        ...         ...   ...   \n",
       "19552873   83.875000         0.0  19.531250  19.531250           3     3   \n",
       "19552874  108.562500         0.0  18.953125  18.953125           3     3   \n",
       "19552875   65.375000         0.0  19.515625  19.515625           3     3   \n",
       "19552876   98.312500         0.0  20.093750  20.093750           3     3   \n",
       "19552877   83.625000         0.0  20.093750  20.093750           3     3   \n",
       "\n",
       "          year  run  \n",
       "0         1988    2  \n",
       "1         1988    2  \n",
       "2         1988    2  \n",
       "3         1988    2  \n",
       "4         1988    2  \n",
       "...        ...  ...  \n",
       "19552873  1980    1  \n",
       "19552874  1980    1  \n",
       "19552875  1980    1  \n",
       "19552876  1980    1  \n",
       "19552877  1980    1  \n",
       "\n",
       "[19552878 rows x 8 columns]"
      ]
     },
     "execution_count": 5,
     "metadata": {},
     "output_type": "execute_result"
    }
   ],
   "source": [
    "# reduce memory\n",
    "\n",
    "def reduce_mem_usage(df, verbose=True):\n",
    "    numerics = ['int16', 'int32', 'int64', 'float16', 'float32', 'float64']\n",
    "    start_mem = df.memory_usage().sum() / 1024**2    \n",
    "    for col in df.columns:\n",
    "        col_type = df[col].dtypes\n",
    "        if col_type in numerics:\n",
    "            c_min = df[col].min()\n",
    "            c_max = df[col].max()\n",
    "            if str(col_type)[:3] == 'int':\n",
    "                if c_min > np.iinfo(np.int8).min and c_max < np.iinfo(np.int8).max:\n",
    "                    df[col] = df[col].astype(np.int8)\n",
    "                elif c_min > np.iinfo(np.int16).min and c_max < np.iinfo(np.int16).max:\n",
    "                    df[col] = df[col].astype(np.int16)\n",
    "                elif c_min > np.iinfo(np.int32).min and c_max < np.iinfo(np.int32).max:\n",
    "                    df[col] = df[col].astype(np.int32)\n",
    "                elif c_min > np.iinfo(np.int64).min and c_max < np.iinfo(np.int64).max:\n",
    "                    df[col] = df[col].astype(np.int64)  \n",
    "            else:\n",
    "                if c_min > np.finfo(np.float16).min and c_max < np.finfo(np.float16).max:\n",
    "                    df[col] = df[col].astype(np.float16)\n",
    "                elif c_min > np.finfo(np.float32).min and c_max < np.finfo(np.float32).max:\n",
    "                    df[col] = df[col].astype(np.float32)\n",
    "                else:\n",
    "                    df[col] = df[col].astype(np.float64)    \n",
    "    end_mem = df.memory_usage().sum() / 1024**2\n",
    "    if verbose: print('Mem. usage decreased to {:5.2f} Mb ({:.1f}% reduction)'.format(end_mem, 100 * (start_mem - end_mem) / start_mem))\n",
    "    return df\n",
    "\n",
    "reduce_mem_usage(result)"
   ]
  },
  {
   "cell_type": "code",
   "execution_count": 6,
   "metadata": {},
   "outputs": [],
   "source": [
    "result.to_csv('g36_sim.csv')"
   ]
  },
  {
   "cell_type": "code",
   "execution_count": 11,
   "metadata": {},
   "outputs": [],
   "source": [
    "np.savez_compressed('g36_sim',result)"
   ]
  },
  {
   "cell_type": "code",
   "execution_count": null,
   "metadata": {},
   "outputs": [],
   "source": []
  },
  {
   "cell_type": "code",
   "execution_count": 10,
   "metadata": {},
   "outputs": [],
   "source": [
    "data = np.load('g36_sim.npz')\n",
    "\n",
    "result_array = data['arr_0']"
   ]
  },
  {
   "cell_type": "code",
   "execution_count": 12,
   "metadata": {},
   "outputs": [
    {
     "data": {
      "text/html": [
       "<div>\n",
       "<style scoped>\n",
       "    .dataframe tbody tr th:only-of-type {\n",
       "        vertical-align: middle;\n",
       "    }\n",
       "\n",
       "    .dataframe tbody tr th {\n",
       "        vertical-align: top;\n",
       "    }\n",
       "\n",
       "    .dataframe thead th {\n",
       "        text-align: right;\n",
       "    }\n",
       "</style>\n",
       "<table border=\"1\" class=\"dataframe\">\n",
       "  <thead>\n",
       "    <tr style=\"text-align: right;\">\n",
       "      <th></th>\n",
       "      <th>comfort</th>\n",
       "      <th>uncDegHour</th>\n",
       "      <th>tempMin</th>\n",
       "      <th>tempMax</th>\n",
       "      <th>efficiency</th>\n",
       "      <th>city</th>\n",
       "      <th>year</th>\n",
       "      <th>run</th>\n",
       "    </tr>\n",
       "  </thead>\n",
       "  <tbody>\n",
       "    <tr>\n",
       "      <td>0</td>\n",
       "      <td>27.734375</td>\n",
       "      <td>0.0</td>\n",
       "      <td>19.531250</td>\n",
       "      <td>19.531250</td>\n",
       "      <td>2.0</td>\n",
       "      <td>2.0</td>\n",
       "      <td>1988.0</td>\n",
       "      <td>2.0</td>\n",
       "    </tr>\n",
       "    <tr>\n",
       "      <td>1</td>\n",
       "      <td>28.093750</td>\n",
       "      <td>0.0</td>\n",
       "      <td>19.531250</td>\n",
       "      <td>19.531250</td>\n",
       "      <td>2.0</td>\n",
       "      <td>2.0</td>\n",
       "      <td>1988.0</td>\n",
       "      <td>2.0</td>\n",
       "    </tr>\n",
       "    <tr>\n",
       "      <td>2</td>\n",
       "      <td>29.140625</td>\n",
       "      <td>0.0</td>\n",
       "      <td>19.531250</td>\n",
       "      <td>19.531250</td>\n",
       "      <td>2.0</td>\n",
       "      <td>2.0</td>\n",
       "      <td>1988.0</td>\n",
       "      <td>2.0</td>\n",
       "    </tr>\n",
       "    <tr>\n",
       "      <td>3</td>\n",
       "      <td>30.203125</td>\n",
       "      <td>0.0</td>\n",
       "      <td>19.531250</td>\n",
       "      <td>19.531250</td>\n",
       "      <td>2.0</td>\n",
       "      <td>2.0</td>\n",
       "      <td>1988.0</td>\n",
       "      <td>2.0</td>\n",
       "    </tr>\n",
       "    <tr>\n",
       "      <td>4</td>\n",
       "      <td>31.000000</td>\n",
       "      <td>0.0</td>\n",
       "      <td>19.531250</td>\n",
       "      <td>19.531250</td>\n",
       "      <td>2.0</td>\n",
       "      <td>2.0</td>\n",
       "      <td>1988.0</td>\n",
       "      <td>2.0</td>\n",
       "    </tr>\n",
       "    <tr>\n",
       "      <td>...</td>\n",
       "      <td>...</td>\n",
       "      <td>...</td>\n",
       "      <td>...</td>\n",
       "      <td>...</td>\n",
       "      <td>...</td>\n",
       "      <td>...</td>\n",
       "      <td>...</td>\n",
       "      <td>...</td>\n",
       "    </tr>\n",
       "    <tr>\n",
       "      <td>19552873</td>\n",
       "      <td>83.875000</td>\n",
       "      <td>0.0</td>\n",
       "      <td>19.531250</td>\n",
       "      <td>19.531250</td>\n",
       "      <td>3.0</td>\n",
       "      <td>3.0</td>\n",
       "      <td>1980.0</td>\n",
       "      <td>1.0</td>\n",
       "    </tr>\n",
       "    <tr>\n",
       "      <td>19552874</td>\n",
       "      <td>108.562500</td>\n",
       "      <td>0.0</td>\n",
       "      <td>18.953125</td>\n",
       "      <td>18.953125</td>\n",
       "      <td>3.0</td>\n",
       "      <td>3.0</td>\n",
       "      <td>1980.0</td>\n",
       "      <td>1.0</td>\n",
       "    </tr>\n",
       "    <tr>\n",
       "      <td>19552875</td>\n",
       "      <td>65.375000</td>\n",
       "      <td>0.0</td>\n",
       "      <td>19.515625</td>\n",
       "      <td>19.515625</td>\n",
       "      <td>3.0</td>\n",
       "      <td>3.0</td>\n",
       "      <td>1980.0</td>\n",
       "      <td>1.0</td>\n",
       "    </tr>\n",
       "    <tr>\n",
       "      <td>19552876</td>\n",
       "      <td>98.312500</td>\n",
       "      <td>0.0</td>\n",
       "      <td>20.093750</td>\n",
       "      <td>20.093750</td>\n",
       "      <td>3.0</td>\n",
       "      <td>3.0</td>\n",
       "      <td>1980.0</td>\n",
       "      <td>1.0</td>\n",
       "    </tr>\n",
       "    <tr>\n",
       "      <td>19552877</td>\n",
       "      <td>83.625000</td>\n",
       "      <td>0.0</td>\n",
       "      <td>20.093750</td>\n",
       "      <td>20.093750</td>\n",
       "      <td>3.0</td>\n",
       "      <td>3.0</td>\n",
       "      <td>1980.0</td>\n",
       "      <td>1.0</td>\n",
       "    </tr>\n",
       "  </tbody>\n",
       "</table>\n",
       "<p>19552878 rows × 8 columns</p>\n",
       "</div>"
      ],
      "text/plain": [
       "             comfort  uncDegHour    tempMin    tempMax  efficiency  city  \\\n",
       "0          27.734375         0.0  19.531250  19.531250         2.0   2.0   \n",
       "1          28.093750         0.0  19.531250  19.531250         2.0   2.0   \n",
       "2          29.140625         0.0  19.531250  19.531250         2.0   2.0   \n",
       "3          30.203125         0.0  19.531250  19.531250         2.0   2.0   \n",
       "4          31.000000         0.0  19.531250  19.531250         2.0   2.0   \n",
       "...              ...         ...        ...        ...         ...   ...   \n",
       "19552873   83.875000         0.0  19.531250  19.531250         3.0   3.0   \n",
       "19552874  108.562500         0.0  18.953125  18.953125         3.0   3.0   \n",
       "19552875   65.375000         0.0  19.515625  19.515625         3.0   3.0   \n",
       "19552876   98.312500         0.0  20.093750  20.093750         3.0   3.0   \n",
       "19552877   83.625000         0.0  20.093750  20.093750         3.0   3.0   \n",
       "\n",
       "            year  run  \n",
       "0         1988.0  2.0  \n",
       "1         1988.0  2.0  \n",
       "2         1988.0  2.0  \n",
       "3         1988.0  2.0  \n",
       "4         1988.0  2.0  \n",
       "...          ...  ...  \n",
       "19552873  1980.0  1.0  \n",
       "19552874  1980.0  1.0  \n",
       "19552875  1980.0  1.0  \n",
       "19552876  1980.0  1.0  \n",
       "19552877  1980.0  1.0  \n",
       "\n",
       "[19552878 rows x 8 columns]"
      ]
     },
     "execution_count": 12,
     "metadata": {},
     "output_type": "execute_result"
    }
   ],
   "source": [
    "result = pd.DataFrame(result_array,columns=['comfort','uncDegHour','tempMin','tempMax','efficiency','city','year','run'])\n",
    "result"
   ]
  },
  {
   "cell_type": "code",
   "execution_count": 33,
   "metadata": {},
   "outputs": [
    {
     "data": {
      "text/plain": [
       "Text(0, 0.5, 'Minimum Zone Temperature / degC')"
      ]
     },
     "execution_count": 33,
     "metadata": {},
     "output_type": "execute_result"
    },
    {
     "data": {
      "image/png": "[encoded data removed]",
      "text/plain": [
       "<Figure size 432x288 with 1 Axes>"
      ]
     },
     "metadata": {
      "needs_background": "light"
     },
     "output_type": "display_data"
    }
   ],
   "source": [
    "keys, values = zip(*city_map.items())\n",
    "\n",
    "sns.boxplot(x=\"city\", y=\"tempMin\", data=result[['tempMin','city']].replace(values,keys))\n",
    "plt.ylabel('Minimum Zone Temperature / degC')"
   ]
  },
  {
   "cell_type": "code",
   "execution_count": 34,
   "metadata": {},
   "outputs": [
    {
     "data": {
      "text/plain": [
       "Text(0, 0.5, 'Minimum Zone Temperature / degC')"
      ]
     },
     "execution_count": 34,
     "metadata": {},
     "output_type": "execute_result"
    },
    {
     "data": {
      "image/png": "[encoded data removed]",
      "text/plain": [
       "<Figure size 432x288 with 1 Axes>"
      ]
     },
     "metadata": {
      "needs_background": "light"
     },
     "output_type": "display_data"
    }
   ],
   "source": [
    "keys, values = zip(*efficiency_map.items())\n",
    "\n",
    "sns.boxplot(x=\"efficiency\", y=\"tempMin\", data=result[['tempMin','efficiency']].replace(values,keys))\n",
    "plt.ylabel('Minimum Zone Temperature / degC')"
   ]
  },
  {
   "cell_type": "code",
   "execution_count": 16,
   "metadata": {},
   "outputs": [],
   "source": [
    "comfort = result.groupby(['efficiency','city','year','run']).comfort.sum()\n",
    "\n",
    "comfort_df = pd.DataFrame(comfort).reset_index(level=['city', 'efficiency'])"
   ]
  },
  {
   "cell_type": "code",
   "execution_count": 18,
   "metadata": {},
   "outputs": [
    {
     "data": {
      "text/plain": [
       "Text(0, 0.5, 'Annually comfort reward')"
      ]
     },
     "execution_count": 18,
     "metadata": {},
     "output_type": "execute_result"
    },
    {
     "data": {
      "image/png": "[encoded data removed]",
      "text/plain": [
       "<Figure size 432x288 with 1 Axes>"
      ]
     },
     "metadata": {
      "needs_background": "light"
     },
     "output_type": "display_data"
    }
   ],
   "source": [
    "keys, values = zip(*city_map.items())\n",
    "\n",
    "sns.boxplot(x=\"city\", y=\"comfort\", data=comfort_df[['comfort','city']].replace(values,keys))\n",
    "plt.ylabel('Annually comfort reward')"
   ]
  },
  {
   "cell_type": "code",
   "execution_count": null,
   "metadata": {},
   "outputs": [],
   "source": []
  },
  {
   "cell_type": "code",
   "execution_count": 14,
   "metadata": {},
   "outputs": [],
   "source": [
    "uncDegHour_series = result.groupby(['efficiency','city','year','run']).uncDegHour.sum()\n",
    "\n",
    "uncDegHour_df = pd.DataFrame(uncDegHour_series).reset_index(level=['city', 'efficiency'])"
   ]
  },
  {
   "cell_type": "code",
   "execution_count": 15,
   "metadata": {},
   "outputs": [
    {
     "data": {
      "text/plain": [
       "Text(0, 0.5, 'Uncomfortable Degree Hour')"
      ]
     },
     "execution_count": 15,
     "metadata": {},
     "output_type": "execute_result"
    },
    {
     "data": {
      "image/png": "[encoded data removed]",
      "text/plain": [
       "<Figure size 432x288 with 1 Axes>"
      ]
     },
     "metadata": {
      "needs_background": "light"
     },
     "output_type": "display_data"
    }
   ],
   "source": [
    "keys, values = zip(*city_map.items())\n",
    "\n",
    "sns.boxplot(x=\"city\", y=\"uncDegHour\", data=uncDegHour_df[['uncDegHour','city']].replace(values,keys))\n",
    "plt.ylabel('Uncomfortable Degree Hour')"
   ]
  },
  {
   "cell_type": "code",
   "execution_count": 61,
   "metadata": {},
   "outputs": [],
   "source": []
  },
  {
   "cell_type": "code",
   "execution_count": 62,
   "metadata": {},
   "outputs": [
    {
     "data": {
      "text/html": [
       "<div>\n",
       "<style scoped>\n",
       "    .dataframe tbody tr th:only-of-type {\n",
       "        vertical-align: middle;\n",
       "    }\n",
       "\n",
       "    .dataframe tbody tr th {\n",
       "        vertical-align: top;\n",
       "    }\n",
       "\n",
       "    .dataframe thead th {\n",
       "        text-align: right;\n",
       "    }\n",
       "</style>\n",
       "<table border=\"1\" class=\"dataframe\">\n",
       "  <thead>\n",
       "    <tr style=\"text-align: right;\">\n",
       "      <th></th>\n",
       "      <th></th>\n",
       "      <th>efficiency</th>\n",
       "      <th>city</th>\n",
       "      <th>uncDegHour</th>\n",
       "    </tr>\n",
       "    <tr>\n",
       "      <th>year</th>\n",
       "      <th>run</th>\n",
       "      <th></th>\n",
       "      <th></th>\n",
       "      <th></th>\n",
       "    </tr>\n",
       "  </thead>\n",
       "  <tbody>\n",
       "    <tr>\n",
       "      <td rowspan=\"2\" valign=\"top\">0</td>\n",
       "      <td>1</td>\n",
       "      <td>1</td>\n",
       "      <td>1</td>\n",
       "      <td>0.0</td>\n",
       "    </tr>\n",
       "    <tr>\n",
       "      <td>2</td>\n",
       "      <td>1</td>\n",
       "      <td>1</td>\n",
       "      <td>961018560.0</td>\n",
       "    </tr>\n",
       "    <tr>\n",
       "      <td rowspan=\"2\" valign=\"top\">1980</td>\n",
       "      <td>1</td>\n",
       "      <td>1</td>\n",
       "      <td>1</td>\n",
       "      <td>820732608.0</td>\n",
       "    </tr>\n",
       "    <tr>\n",
       "      <td>2</td>\n",
       "      <td>1</td>\n",
       "      <td>1</td>\n",
       "      <td>894472640.0</td>\n",
       "    </tr>\n",
       "    <tr>\n",
       "      <td>1981</td>\n",
       "      <td>1</td>\n",
       "      <td>1</td>\n",
       "      <td>1</td>\n",
       "      <td>0.0</td>\n",
       "    </tr>\n",
       "    <tr>\n",
       "      <td>...</td>\n",
       "      <td>...</td>\n",
       "      <td>...</td>\n",
       "      <td>...</td>\n",
       "      <td>...</td>\n",
       "    </tr>\n",
       "    <tr>\n",
       "      <td>2003</td>\n",
       "      <td>2</td>\n",
       "      <td>3</td>\n",
       "      <td>3</td>\n",
       "      <td>0.0</td>\n",
       "    </tr>\n",
       "    <tr>\n",
       "      <td rowspan=\"2\" valign=\"top\">2004</td>\n",
       "      <td>1</td>\n",
       "      <td>3</td>\n",
       "      <td>3</td>\n",
       "      <td>848909696.0</td>\n",
       "    </tr>\n",
       "    <tr>\n",
       "      <td>2</td>\n",
       "      <td>3</td>\n",
       "      <td>3</td>\n",
       "      <td>934040448.0</td>\n",
       "    </tr>\n",
       "    <tr>\n",
       "      <td rowspan=\"2\" valign=\"top\">2005</td>\n",
       "      <td>1</td>\n",
       "      <td>3</td>\n",
       "      <td>3</td>\n",
       "      <td>911858496.0</td>\n",
       "    </tr>\n",
       "    <tr>\n",
       "      <td>2</td>\n",
       "      <td>3</td>\n",
       "      <td>3</td>\n",
       "      <td>736201344.0</td>\n",
       "    </tr>\n",
       "  </tbody>\n",
       "</table>\n",
       "<p>558 rows × 3 columns</p>\n",
       "</div>"
      ],
      "text/plain": [
       "          efficiency  city   uncDegHour\n",
       "year run                               \n",
       "0    1             1     1          0.0\n",
       "     2             1     1  961018560.0\n",
       "1980 1             1     1  820732608.0\n",
       "     2             1     1  894472640.0\n",
       "1981 1             1     1          0.0\n",
       "...              ...   ...          ...\n",
       "2003 2             3     3          0.0\n",
       "2004 1             3     3  848909696.0\n",
       "     2             3     3  934040448.0\n",
       "2005 1             3     3  911858496.0\n",
       "     2             3     3  736201344.0\n",
       "\n",
       "[558 rows x 3 columns]"
      ]
     },
     "execution_count": 62,
     "metadata": {},
     "output_type": "execute_result"
    }
   ],
   "source": [
    "uncDegHour_df"
   ]
  },
  {
   "cell_type": "code",
   "execution_count": null,
   "metadata": {},
   "outputs": [],
   "source": []
  },
  {
   "cell_type": "code",
   "execution_count": null,
   "metadata": {},
   "outputs": [],
   "source": []
  },
  {
   "cell_type": "code",
   "execution_count": null,
   "metadata": {},
   "outputs": [],
   "source": []
  }
 ],
 "metadata": {
  "kernelspec": {
   "display_name": "Python 3",
   "language": "python",
   "name": "python3"
  },
  "language_info": {
   "codemirror_mode": {
    "name": "ipython",
    "version": 3
   },
   "file_extension": ".py",
   "mimetype": "text/x-python",
   "name": "python",
   "nbconvert_exporter": "python",
   "pygments_lexer": "ipython3",
   "version": "3.7.4"
  }
 },
 "nbformat": 4,
 "nbformat_minor": 2
}
